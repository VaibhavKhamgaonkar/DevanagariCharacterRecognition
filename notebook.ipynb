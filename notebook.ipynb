{
  "cells": [
    {
      "metadata": {
        "_uuid": "d1d536329589a3fe01dae83256ceb5024dd59ea1",
        "_cell_guid": "d989a3b7-f834-4d8d-bc8b-577800c4c418",
        "trusted": true
      },
      "cell_type": "code",
      "source": "# This Python 3 environment comes with many helpful analytics libraries installed\n# It is defined by the kaggle/python docker image: https://github.com/kaggle/docker-python\n# For example, here's several helpful packages to load in \n\nimport numpy as np # linear algebra\nimport pandas as pd # data processing, CSV file I/O (e.g. pd.read_csv)\nimport matplotlib.pyplot as plt\n%matplotlib inline\n# Input data files are available in the \"../input/\" directory.\n# For example, running this (by clicking run or pressing Shift+Enter) will list the files in the input directory\n\nfrom subprocess import check_output\nprint(check_output([\"ls\", \"../input\"]).decode(\"utf8\"))\n\n#from sklearn.preprocessing import StandardScalar\n\n# Any results you write to the current directory are saved as output.",
      "execution_count": 1,
      "outputs": [
        {
          "output_type": "stream",
          "text": "Images.7z\ndata.csv\n\n",
          "name": "stdout"
        }
      ]
    },
    {
      "metadata": {
        "collapsed": true,
        "_uuid": "a9ddfb93dc386736ee2eb50a7d1b9281948c3f85",
        "_cell_guid": "6df45233-cfe4-4e4d-a8fc-ccb9f89f4afd",
        "trusted": true
      },
      "cell_type": "code",
      "source": "data = pd.read_csv('../input/data.csv')",
      "execution_count": 2,
      "outputs": []
    },
    {
      "metadata": {
        "_uuid": "30b74a787c1b49ad978fd9efbc7c233fca49f21d",
        "_cell_guid": "ac64d2f4-5525-4c68-8633-c4af1c01e065",
        "trusted": true
      },
      "cell_type": "code",
      "source": "data.head()",
      "execution_count": 3,
      "outputs": [
        {
          "output_type": "execute_result",
          "execution_count": 3,
          "data": {
            "text/plain": "   pixel_0000  pixel_0001  pixel_0002  pixel_0003  pixel_0004  pixel_0005  \\\n0           0           0           0           0           0           0   \n1           0           0           0           0           0           0   \n2           0           0           0           0           0           0   \n3           0           0           0           0           0           0   \n4           0           0           0           0           0           0   \n\n   pixel_0006  pixel_0007  pixel_0008  pixel_0009       ...         \\\n0           0           0           0           0       ...          \n1           0           0           0           0       ...          \n2           0           0           0           0       ...          \n3           0           0           0           0       ...          \n4           0           0           0           0       ...          \n\n   pixel_1015  pixel_1016  pixel_1017  pixel_1018  pixel_1019  pixel_1020  \\\n0           0           0           0           0           0           0   \n1           0           0           0           0           0           0   \n2           0           0           0           0           0           0   \n3           0           0           0           0           0           0   \n4           0           0           0           0           0           0   \n\n   pixel_1021  pixel_1022  pixel_1023        character  \n0           0           0           0  character_01_ka  \n1           0           0           0  character_01_ka  \n2           0           0           0  character_01_ka  \n3           0           0           0  character_01_ka  \n4           0           0           0  character_01_ka  \n\n[5 rows x 1025 columns]",
            "text/html": "<div>\n<style>\n    .dataframe thead tr:only-child th {\n        text-align: right;\n    }\n\n    .dataframe thead th {\n        text-align: left;\n    }\n\n    .dataframe tbody tr th {\n        vertical-align: top;\n    }\n</style>\n<table border=\"1\" class=\"dataframe\">\n  <thead>\n    <tr style=\"text-align: right;\">\n      <th></th>\n      <th>pixel_0000</th>\n      <th>pixel_0001</th>\n      <th>pixel_0002</th>\n      <th>pixel_0003</th>\n      <th>pixel_0004</th>\n      <th>pixel_0005</th>\n      <th>pixel_0006</th>\n      <th>pixel_0007</th>\n      <th>pixel_0008</th>\n      <th>pixel_0009</th>\n      <th>...</th>\n      <th>pixel_1015</th>\n      <th>pixel_1016</th>\n      <th>pixel_1017</th>\n      <th>pixel_1018</th>\n      <th>pixel_1019</th>\n      <th>pixel_1020</th>\n      <th>pixel_1021</th>\n      <th>pixel_1022</th>\n      <th>pixel_1023</th>\n      <th>character</th>\n    </tr>\n  </thead>\n  <tbody>\n    <tr>\n      <th>0</th>\n      <td>0</td>\n      <td>0</td>\n      <td>0</td>\n      <td>0</td>\n      <td>0</td>\n      <td>0</td>\n      <td>0</td>\n      <td>0</td>\n      <td>0</td>\n      <td>0</td>\n      <td>...</td>\n      <td>0</td>\n      <td>0</td>\n      <td>0</td>\n      <td>0</td>\n      <td>0</td>\n      <td>0</td>\n      <td>0</td>\n      <td>0</td>\n      <td>0</td>\n      <td>character_01_ka</td>\n    </tr>\n    <tr>\n      <th>1</th>\n      <td>0</td>\n      <td>0</td>\n      <td>0</td>\n      <td>0</td>\n      <td>0</td>\n      <td>0</td>\n      <td>0</td>\n      <td>0</td>\n      <td>0</td>\n      <td>0</td>\n      <td>...</td>\n      <td>0</td>\n      <td>0</td>\n      <td>0</td>\n      <td>0</td>\n      <td>0</td>\n      <td>0</td>\n      <td>0</td>\n      <td>0</td>\n      <td>0</td>\n      <td>character_01_ka</td>\n    </tr>\n    <tr>\n      <th>2</th>\n      <td>0</td>\n      <td>0</td>\n      <td>0</td>\n      <td>0</td>\n      <td>0</td>\n      <td>0</td>\n      <td>0</td>\n      <td>0</td>\n      <td>0</td>\n      <td>0</td>\n      <td>...</td>\n      <td>0</td>\n      <td>0</td>\n      <td>0</td>\n      <td>0</td>\n      <td>0</td>\n      <td>0</td>\n      <td>0</td>\n      <td>0</td>\n      <td>0</td>\n      <td>character_01_ka</td>\n    </tr>\n    <tr>\n      <th>3</th>\n      <td>0</td>\n      <td>0</td>\n      <td>0</td>\n      <td>0</td>\n      <td>0</td>\n      <td>0</td>\n      <td>0</td>\n      <td>0</td>\n      <td>0</td>\n      <td>0</td>\n      <td>...</td>\n      <td>0</td>\n      <td>0</td>\n      <td>0</td>\n      <td>0</td>\n      <td>0</td>\n      <td>0</td>\n      <td>0</td>\n      <td>0</td>\n      <td>0</td>\n      <td>character_01_ka</td>\n    </tr>\n    <tr>\n      <th>4</th>\n      <td>0</td>\n      <td>0</td>\n      <td>0</td>\n      <td>0</td>\n      <td>0</td>\n      <td>0</td>\n      <td>0</td>\n      <td>0</td>\n      <td>0</td>\n      <td>0</td>\n      <td>...</td>\n      <td>0</td>\n      <td>0</td>\n      <td>0</td>\n      <td>0</td>\n      <td>0</td>\n      <td>0</td>\n      <td>0</td>\n      <td>0</td>\n      <td>0</td>\n      <td>character_01_ka</td>\n    </tr>\n  </tbody>\n</table>\n<p>5 rows × 1025 columns</p>\n</div>"
          },
          "metadata": {}
        }
      ]
    },
    {
      "metadata": {
        "collapsed": true,
        "_uuid": "c07fa4908f3467bdcf7b76b7e7c92c8dd123497a",
        "_cell_guid": "f9e7c960-6721-438b-a87b-0d2a005e206c",
        "trusted": true
      },
      "cell_type": "code",
      "source": "#Sampling the Data for training and Testing the model\n# each symbol has 2000  images and thus getting 1600 images for traing data and 400 images for test data for each symbol\n\nX_train = data[data['character'] == data['character'].unique()[0]].iloc[0:int(len(data[data['character'] == data['character'].unique()[0]])*0.8),:]\nX_test  = data[data['character'] == data['character'].unique()[0]].iloc[int(len(data[data['character'] == data['character'].unique()[0]])*0.8): ,:]\n\nfor char in [word for word in data['character'].unique()[1:,]]:\n    X_train = pd.concat([X_train,data[data['character'] == char].iloc[0:int(len(data[data['character'] == char])*0.8),:]])\n    X_test= pd.concat([X_test,data[data['character'] == char].iloc[int(len(data[data['character'] == char])*0.8): ,:]])\n     ",
      "execution_count": 4,
      "outputs": []
    },
    {
      "metadata": {
        "collapsed": true,
        "_uuid": "6127abf5a2c7859c016931d8ebe5fb03fe5ca7b9",
        "_cell_guid": "224782c4-e1fa-4397-ba02-8e25a968a235",
        "trusted": true
      },
      "cell_type": "code",
      "source": "#importing Shuffle from  Sklearn to shuffle the edata\nfrom sklearn.utils import shuffle\nX_train = shuffle(X_train)",
      "execution_count": 5,
      "outputs": []
    },
    {
      "metadata": {
        "collapsed": true,
        "_uuid": "4a3fadc440f81a4ae213328ea23f74cc8ca7c6ef",
        "_cell_guid": "ff09575a-7e13-4c0e-9ebd-161d3f7e65a8",
        "trusted": true
      },
      "cell_type": "code",
      "source": "#filtering label from training data and test data\ny_train = X_train['character']\nX_train = X_train.drop('character',axis=1)\n\ny_test = X_test['character']\nX_test = X_test.drop('character',axis=1)",
      "execution_count": 6,
      "outputs": []
    },
    {
      "metadata": {
        "_uuid": "9fd971c83b26f22fb67f5322b668aef3431b3b7b",
        "_cell_guid": "cd5cffc4-7271-492c-bc20-6a7bb2081116",
        "trusted": true
      },
      "cell_type": "code",
      "source": "(len(X_train)==len(y_train) ) and (len(X_test)==len(y_test))",
      "execution_count": 7,
      "outputs": [
        {
          "output_type": "execute_result",
          "execution_count": 7,
          "data": {
            "text/plain": "True"
          },
          "metadata": {}
        }
      ]
    },
    {
      "metadata": {
        "collapsed": true,
        "_uuid": "f71cf6b9c9cd65234ba05573b1328fb65c7efc87",
        "_cell_guid": "148f3201-5c3f-4d95-8ce3-66a23933e0e1"
      },
      "cell_type": "markdown",
      "source": " > ***Ploting the Characters***"
    },
    {
      "metadata": {
        "_uuid": "9fd693a91af339dfc2abcec3b7841062660b7ec1",
        "_cell_guid": "454f8840-13de-45ce-95a2-6c5669142dc4",
        "trusted": true
      },
      "cell_type": "code",
      "source": "import math\nplt.figure(figsize=(10,6))\nfig,ax = plt.subplots(10,10)\nfor i in range(0,100):\n    img = X_train.iloc[i,0:].values.reshape(32,32)\n    n = math.floor(i/10)\n    m = [0,1,2,3,4,5,6,7,8,9]*100\n    ax[n,m[i]].imshow(img)",
      "execution_count": 8,
      "outputs": [
        {
          "output_type": "display_data",
          "data": {
            "text/plain": "<matplotlib.figure.Figure at 0x7fa36c560c18>"
          },
          "metadata": {}
        },
        {
          "output_type": "display_data",
          "data": {
            "text/plain": "<matplotlib.figure.Figure at 0x7fa36c560cc0>",
            "image/png": "[encoded data removed]"
          },
          "metadata": {}
        }
      ]
    },
    {
      "metadata": {
        "collapsed": true,
        "_uuid": "8d48250f60dc9d6790513a3e59840c2c810f818a",
        "_cell_guid": "f99a98d0-a3d8-4997-8b1d-9eac278c3ab1"
      },
      "cell_type": "markdown",
      "source": "**    ****Training the model using MLPClassifier (neural Network)******\n"
    },
    {
      "metadata": {
        "collapsed": true,
        "_uuid": "50ee0853b94b83cd0fbef60294b273831e5d9207",
        "_cell_guid": "74ff3226-eccd-431a-a93f-42e69a3e5f2f",
        "trusted": true
      },
      "cell_type": "code",
      "source": "from sklearn.neural_network import MLPClassifier",
      "execution_count": null,
      "outputs": []
    },
    {
      "metadata": {
        "collapsed": true,
        "_uuid": "b3d8bbf796db8475fa73f8ca48c80961c7fc7851",
        "_cell_guid": "4d075f1c-3405-44f1-92f3-e967c9d35f35",
        "trusted": true
      },
      "cell_type": "code",
      "source": "#intiating the classifier and fitting the Training Data\nnn = MLPClassifier(hidden_layer_sizes=(1000,500,800,1000),verbose=2,learning_rate='adaptive', random_state=2,alpha=5e-5,batch_size=200, solver='adam')\nnn.fit(X_train,y_train)",
      "execution_count": null,
      "outputs": []
    },
    {
      "metadata": {
        "collapsed": true,
        "_uuid": "9d330027a865aa4ddffc8f973252f937e4cad371",
        "_cell_guid": "df03be19-8bcb-4a4f-ba2d-01f0680a5370",
        "trusted": true
      },
      "cell_type": "code",
      "source": "#predticing the model on test data\npred = nn.predict(X_test)",
      "execution_count": null,
      "outputs": []
    },
    {
      "metadata": {
        "collapsed": true,
        "_uuid": "3e6dcf0d19e15a4151c8b734614777b7c1d628ab",
        "_cell_guid": "f5738cde-ab07-4815-b847-6e2870310fa2",
        "trusted": true
      },
      "cell_type": "code",
      "source": "#Evaluating the model\nfrom sklearn.metrics import classification_report,confusion_matrix",
      "execution_count": null,
      "outputs": []
    },
    {
      "metadata": {
        "collapsed": true,
        "_uuid": "97d93c1b76d33725dd1801ab37bbcee1cc4ea179",
        "_cell_guid": "14340088-9ef4-40ab-9a5e-ff91a8f14977",
        "trusted": true
      },
      "cell_type": "code",
      "source": "print('Classification report :', classification_report(pred,y_test))",
      "execution_count": null,
      "outputs": []
    },
    {
      "metadata": {
        "collapsed": true,
        "_uuid": "39915b08434ead27aaafd5f74a626465ce15491c",
        "_cell_guid": "f2a6e89e-3699-4d38-b212-67ccfdba26da",
        "trusted": true
      },
      "cell_type": "code",
      "source": "print('Confusion matrix :', confusion_matrix(pred,y_test))",
      "execution_count": null,
      "outputs": []
    },
    {
      "metadata": {
        "collapsed": true,
        "_uuid": "000c4283b872baeb9601d94783ed3f3c3bb73b0f",
        "_cell_guid": "a128a04c-33d4-4eba-8fd7-5aa15c0931ce",
        "trusted": true
      },
      "cell_type": "code",
      "source": "",
      "execution_count": null,
      "outputs": []
    },
    {
      "metadata": {
        "collapsed": true,
        "_uuid": "e20f25df360ac9e50a6bc9ad5ce939296d48da31",
        "_cell_guid": "a8848637-cd19-46e5-af74-5c6c600a5afb",
        "trusted": true
      },
      "cell_type": "code",
      "source": "\n",
      "execution_count": null,
      "outputs": []
    },
    {
      "metadata": {
        "collapsed": true,
        "_uuid": "f94fcced4d015985589f7f7f6d16959d57ac0a7f",
        "_cell_guid": "d1b1bffb-568a-4211-8d17-8d84d5f41f63",
        "trusted": true
      },
      "cell_type": "code",
      "source": "",
      "execution_count": null,
      "outputs": []
    },
    {
      "metadata": {
        "collapsed": true,
        "_uuid": "b191e6d454866483bc3dcceab4007f7163c7bc3f",
        "_cell_guid": "2d0093c5-9808-4dd1-a643-45d08e448308",
        "trusted": true
      },
      "cell_type": "code",
      "source": "    ",
      "execution_count": null,
      "outputs": []
    },
    {
      "metadata": {
        "collapsed": true,
        "_uuid": "33313382073adff2ed3fc3da830ddd3bbb61bf00",
        "_cell_guid": "1096fdd2-9677-4c51-8696-0a61e1f330f2",
        "trusted": true
      },
      "cell_type": "code",
      "source": "",
      "execution_count": null,
      "outputs": []
    },
    {
      "metadata": {
        "collapsed": true,
        "_uuid": "1e89f18d1d47b2e8ef69cc1d19385b6a2b7751de",
        "_cell_guid": "d922d3af-788f-4000-bab1-658951dd6ff7",
        "trusted": true
      },
      "cell_type": "code",
      "source": "",
      "execution_count": null,
      "outputs": []
    },
    {
      "metadata": {
        "collapsed": true,
        "_uuid": "5c7d99f4628e4aeac53fcd79f2671f7d92de3ffe",
        "_cell_guid": "069f9098-98d7-44fe-b081-a8697afb645f",
        "trusted": true
      },
      "cell_type": "code",
      "source": "",
      "execution_count": null,
      "outputs": []
    },
    {
      "metadata": {
        "collapsed": true,
        "_uuid": "a379610f79c4199e92460e92a7e761ffc41d80b0",
        "_cell_guid": "93381f7a-119c-4321-9524-847f514dca9b",
        "trusted": true
      },
      "cell_type": "code",
      "source": "",
      "execution_count": null,
      "outputs": []
    },
    {
      "metadata": {
        "collapsed": true,
        "_uuid": "b04bafa659944267977f7db44c6e561b8a9977d7",
        "_cell_guid": "5dccb931-17e6-47e1-af06-6cf91a29cda2",
        "trusted": true
      },
      "cell_type": "code",
      "source": "",
      "execution_count": null,
      "outputs": []
    },
    {
      "metadata": {
        "collapsed": true,
        "_uuid": "1c9d4364642d647196d013a62d6a42f7cd2bb93c",
        "_cell_guid": "92922501-b802-4f75-9212-b9789e37b0fb",
        "trusted": true
      },
      "cell_type": "code",
      "source": "",
      "execution_count": null,
      "outputs": []
    },
    {
      "metadata": {
        "collapsed": true,
        "_uuid": "1a96cd4df4353de5bce53e4de805d6d88a19e4b5",
        "_cell_guid": "f3204584-3752-4ab4-83cd-a239a4c536ea",
        "trusted": true
      },
      "cell_type": "code",
      "source": "",
      "execution_count": null,
      "outputs": []
    },
    {
      "metadata": {
        "collapsed": true,
        "_uuid": "33f27597d1f2ddcd4f971680acc13a3986863efa",
        "_cell_guid": "865c4f84-f9e4-4dd7-839c-1c06da8cb47d",
        "trusted": true
      },
      "cell_type": "code",
      "source": "",
      "execution_count": null,
      "outputs": []
    },
    {
      "metadata": {
        "collapsed": true,
        "_uuid": "9f5e0d5513b742e5027d8d476862deae1c65f271",
        "_kg_hide-input": true,
        "_cell_guid": "269647cd-becf-401d-9a2e-6705a004a622",
        "trusted": true
      },
      "cell_type": "code",
      "source": "",
      "execution_count": null,
      "outputs": []
    },
    {
      "metadata": {
        "collapsed": true,
        "_uuid": "fdf0fec7ae1dc57c2f7083f7bd33f382772254bd",
        "_cell_guid": "187a925a-4e66-4db4-a8db-d07f112acfe9",
        "trusted": true
      },
      "cell_type": "code",
      "source": "",
      "execution_count": null,
      "outputs": []
    },
    {
      "metadata": {
        "collapsed": true,
        "_uuid": "c678fc23967960e51dddd207cd1ea21eca29cd23",
        "_cell_guid": "b477f30b-602d-43fb-99d5-210598f7591b",
        "trusted": true
      },
      "cell_type": "code",
      "source": "",
      "execution_count": null,
      "outputs": []
    },
    {
      "metadata": {
        "collapsed": true,
        "_uuid": "0d5267de1ed79c377a09b80c320a869ae9c5d547",
        "_cell_guid": "462e4647-595e-4de3-9bad-6f7fa54ccd06",
        "trusted": true
      },
      "cell_type": "code",
      "source": "",
      "execution_count": null,
      "outputs": []
    },
    {
      "metadata": {
        "collapsed": true,
        "_uuid": "90598d8c03eebf2b4530a528684dd23bd3daf530",
        "_cell_guid": "77bd719e-e814-42cd-8daf-a9431fe77438",
        "trusted": true
      },
      "cell_type": "code",
      "source": "",
      "execution_count": null,
      "outputs": []
    },
    {
      "metadata": {
        "collapsed": true,
        "_uuid": "97229aed720c48fab84a2e642ca24c64dd5b6d57",
        "_cell_guid": "fbc26293-6a2a-4690-b230-d886abf1a0fb",
        "trusted": true
      },
      "cell_type": "code",
      "source": "",
      "execution_count": null,
      "outputs": []
    },
    {
      "metadata": {
        "collapsed": true,
        "_uuid": "f5a045816b091f90824fab1a59edb5706567f985",
        "_cell_guid": "55f92909-2d3d-4103-9387-5bc7537e838d",
        "trusted": true
      },
      "cell_type": "code",
      "source": "",
      "execution_count": null,
      "outputs": []
    },
    {
      "metadata": {
        "collapsed": true,
        "_uuid": "baf5397c167b5cafda743c56d4804a958e4edb02",
        "_cell_guid": "2fa6bcb4-cdc1-4fd6-8835-d759fdd1b7a7",
        "trusted": true
      },
      "cell_type": "code",
      "source": "",
      "execution_count": null,
      "outputs": []
    },
    {
      "metadata": {
        "collapsed": true,
        "_uuid": "0c09c55c5f92b6705dff2981f67e8f3ead15fcc5",
        "_cell_guid": "f6b8edd6-bada-469b-bc01-1bd68501eab4",
        "trusted": true
      },
      "cell_type": "code",
      "source": "",
      "execution_count": null,
      "outputs": []
    },
    {
      "metadata": {
        "collapsed": true,
        "_uuid": "9fa61f4e3284190fea2a6255b62b8eae65262626",
        "_cell_guid": "65c7ca1e-f268-40b0-9705-7c20bf6f840a",
        "trusted": true
      },
      "cell_type": "code",
      "source": "",
      "execution_count": null,
      "outputs": []
    },
    {
      "metadata": {
        "collapsed": true,
        "_uuid": "0623d279786209b24388a167a8345eacf166c8cd",
        "_cell_guid": "d66cca1f-d74d-4970-9454-660d1e65a2ee",
        "trusted": true
      },
      "cell_type": "code",
      "source": "",
      "execution_count": null,
      "outputs": []
    },
    {
      "metadata": {
        "collapsed": true,
        "_uuid": "fd879b070482012e0a3507d43b3286e6b88e73e1",
        "_cell_guid": "6644e60e-d632-4a6e-911d-6652e288f9e2"
      },
      "cell_type": "raw",
      "source": ""
    },
    {
      "metadata": {
        "collapsed": true,
        "_uuid": "a1ca030d86cabb7631c89f31f8eed9286acfa2f3",
        "_cell_guid": "e6e96bdb-8631-45f5-81ba-c4214e58667f",
        "trusted": true
      },
      "cell_type": "code",
      "source": "",
      "execution_count": null,
      "outputs": []
    },
    {
      "metadata": {
        "collapsed": true,
        "_uuid": "29aebba9b8c08567a3dcee45f79faf722f603119",
        "_cell_guid": "47945569-98a7-4190-9ef7-622ada9e7cda",
        "trusted": true
      },
      "cell_type": "code",
      "source": "",
      "execution_count": null,
      "outputs": []
    },
    {
      "metadata": {
        "collapsed": true,
        "_uuid": "aef284b1ebf3e196624a794c5be3aed69dab1763",
        "_cell_guid": "3548eb18-a773-4a58-9c52-f2e1d2592a2d",
        "trusted": true
      },
      "cell_type": "code",
      "source": "",
      "execution_count": null,
      "outputs": []
    },
    {
      "metadata": {
        "collapsed": true,
        "_uuid": "ff9dde74d8ae11fc57713e2e77a269075d8cbd69",
        "scrolled": false,
        "_cell_guid": "85307cde-554f-47e1-800a-7b0bd8c005c0",
        "trusted": true
      },
      "cell_type": "code",
      "source": "",
      "execution_count": null,
      "outputs": []
    },
    {
      "metadata": {
        "collapsed": true,
        "_uuid": "35d4c5d8ec834f67e5e68a4528ce28b77f97bce4",
        "_cell_guid": "2692ee73-b1f4-422f-80fc-6a8d8f35e892",
        "trusted": true
      },
      "cell_type": "code",
      "source": "",
      "execution_count": null,
      "outputs": []
    },
    {
      "metadata": {
        "collapsed": true,
        "_uuid": "67263a5a566ae5216c2ef8245f80e7cba79d3ca0",
        "_cell_guid": "bf18a4ec-2f7d-4468-8cc7-5d2e4c93b4e7",
        "trusted": true
      },
      "cell_type": "code",
      "source": "",
      "execution_count": null,
      "outputs": []
    },
    {
      "metadata": {
        "collapsed": true,
        "_uuid": "c21cb815d86d1a71c22656021277d35035961a39",
        "_cell_guid": "3fee90fb-626a-4be1-95e3-c6b63ff7313a",
        "trusted": true
      },
      "cell_type": "code",
      "source": "",
      "execution_count": null,
      "outputs": []
    },
    {
      "metadata": {
        "collapsed": true,
        "_uuid": "6e38767d3dad3a72105bb9c2018e325b0bcd456c",
        "_cell_guid": "41f72ab3-5eb7-436d-8fee-ad1cb8aaf467",
        "trusted": true
      },
      "cell_type": "code",
      "source": "",
      "execution_count": null,
      "outputs": []
    },
    {
      "metadata": {
        "collapsed": true,
        "_uuid": "f3eb588989bf965edd0aab185ba812200d9f9761",
        "_cell_guid": "c03052fb-a165-4574-8f04-c4904c74a7b9",
        "trusted": true
      },
      "cell_type": "code",
      "source": "",
      "execution_count": null,
      "outputs": []
    },
    {
      "metadata": {
        "collapsed": true,
        "_uuid": "cd2b2f5e04eacf8cfbb160463b0cddce31a89585",
        "_cell_guid": "59b6389e-6eee-45c0-a0fc-0c4d47fa1478",
        "trusted": true
      },
      "cell_type": "code",
      "source": "",
      "execution_count": null,
      "outputs": []
    },
    {
      "metadata": {
        "collapsed": true,
        "_uuid": "e9dc566d76012ab40fdcb9c62ba9c09fbbd84da2",
        "_cell_guid": "7695b01d-8a34-49b3-9ca3-29a7382275ab",
        "trusted": true
      },
      "cell_type": "code",
      "source": "",
      "execution_count": null,
      "outputs": []
    },
    {
      "metadata": {
        "collapsed": true,
        "_uuid": "914372c9a89f9fabf4b8bba481b801ab6a73ec5a",
        "_cell_guid": "fd771746-57a9-46bc-acac-7d8caa006d11",
        "trusted": true
      },
      "cell_type": "code",
      "source": "",
      "execution_count": null,
      "outputs": []
    },
    {
      "metadata": {
        "collapsed": true,
        "_uuid": "77eaebe06c0f99625a766ba4dd7c8fd071bea171",
        "_cell_guid": "068e4633-5005-4190-afbf-3ad2bc2ca4e3",
        "trusted": true
      },
      "cell_type": "code",
      "source": "",
      "execution_count": null,
      "outputs": []
    },
    {
      "metadata": {
        "collapsed": true,
        "_uuid": "9d6608ce7cfb1b53dbb10fdc630fb585c98cfceb",
        "_cell_guid": "7c601c6f-aa37-400a-87b3-8cdb53bce0da",
        "trusted": true
      },
      "cell_type": "code",
      "source": "",
      "execution_count": null,
      "outputs": []
    },
    {
      "metadata": {
        "collapsed": true,
        "_uuid": "5b8333aaa58ab49cabe90f824031f1d76a355e77",
        "_cell_guid": "34417c82-5cf5-4df4-99c7-2100771dc902",
        "trusted": true
      },
      "cell_type": "code",
      "source": "",
      "execution_count": null,
      "outputs": []
    },
    {
      "metadata": {
        "collapsed": true,
        "_uuid": "acb1e7e5173d9201e7c3c3040ee51bfe42d4b33b",
        "_cell_guid": "ec684d26-28b0-4cf4-b559-c0f31229be1f",
        "trusted": true
      },
      "cell_type": "code",
      "source": "",
      "execution_count": null,
      "outputs": []
    },
    {
      "metadata": {
        "collapsed": true,
        "_uuid": "b7a7481fa65d7a1dac8d030bd678f91a7f7158e8",
        "_cell_guid": "cf107a2d-ef18-4d43-abb6-37517fed6762",
        "trusted": true
      },
      "cell_type": "code",
      "source": "",
      "execution_count": null,
      "outputs": []
    },
    {
      "metadata": {
        "collapsed": true,
        "_uuid": "bf35651b473d2b7160e10b70cb12676ea20e7074",
        "_cell_guid": "d96a41b7-9812-4297-ae2e-07d8fbaa4264",
        "trusted": true
      },
      "cell_type": "code",
      "source": "",
      "execution_count": null,
      "outputs": []
    },
    {
      "metadata": {
        "collapsed": true,
        "_uuid": "d985b480987f3d0e60ff6f656f51b19747ae4945",
        "_cell_guid": "5297182a-8cd8-4de3-9c31-eb30124f3dc3",
        "trusted": true
      },
      "cell_type": "code",
      "source": "",
      "execution_count": null,
      "outputs": []
    },
    {
      "metadata": {
        "collapsed": true,
        "_uuid": "8acdbd59360d85ea8022067c29e2d62d9733c336",
        "_cell_guid": "269ae3fb-5e58-41d1-98e3-02f6da27a60a",
        "trusted": true
      },
      "cell_type": "code",
      "source": "",
      "execution_count": null,
      "outputs": []
    },
    {
      "metadata": {
        "collapsed": true,
        "_uuid": "34cf6e49d3935a684ec660a6213c879ff7a00187",
        "_cell_guid": "0ce376aa-b2a9-43a6-995f-5f474c48ec88",
        "trusted": true
      },
      "cell_type": "code",
      "source": "",
      "execution_count": null,
      "outputs": []
    }
  ],
  "metadata": {
    "kernelspec": {
      "display_name": "Python 3",
      "language": "python",
      "name": "python3"
    },
    "language_info": {
      "name": "python",
      "version": "3.6.1",
      "mimetype": "text/x-python",
      "codemirror_mode": {
        "name": "ipython",
        "version": 3
      },
      "pygments_lexer": "ipython3",
      "nbconvert_exporter": "python",
      "file_extension": ".py"
    }
  },
  "nbformat": 4,
  "nbformat_minor": 1
}